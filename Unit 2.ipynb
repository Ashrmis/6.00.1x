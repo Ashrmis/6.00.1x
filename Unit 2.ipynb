{
 "cells": [
  {
   "cell_type": "code",
   "execution_count": 1,
   "id": "e8ee8bfc",
   "metadata": {},
   "outputs": [],
   "source": [
    "s=\"hello\""
   ]
  },
  {
   "cell_type": "code",
   "execution_count": 4,
   "id": "7a41e5b9",
   "metadata": {},
   "outputs": [
    {
     "ename": "TypeError",
     "evalue": "'str' object does not support item assignment",
     "output_type": "error",
     "traceback": [
      "\u001b[1;31m---------------------------------------------------------------------------\u001b[0m",
      "\u001b[1;31mTypeError\u001b[0m                                 Traceback (most recent call last)",
      "Input \u001b[1;32mIn [4]\u001b[0m, in \u001b[0;36m<cell line: 1>\u001b[1;34m()\u001b[0m\n\u001b[1;32m----> 1\u001b[0m s[\u001b[38;5;241m0\u001b[39m]\u001b[38;5;241m=\u001b[39m\u001b[38;5;124m\"\u001b[39m\u001b[38;5;124ml\u001b[39m\u001b[38;5;124m\"\u001b[39m\n",
      "\u001b[1;31mTypeError\u001b[0m: 'str' object does not support item assignment"
     ]
    }
   ],
   "source": [
    "s[0]=\"l\""
   ]
  },
  {
   "cell_type": "code",
   "execution_count": 5,
   "id": "f0ae9269",
   "metadata": {},
   "outputs": [
    {
     "name": "stdout",
     "output_type": "stream",
     "text": [
      "lello\n"
     ]
    }
   ],
   "source": [
    "print(\"l\"+s[1:])"
   ]
  },
  {
   "cell_type": "code",
   "execution_count": 9,
   "id": "cbf6f3fb",
   "metadata": {},
   "outputs": [
    {
     "name": "stdout",
     "output_type": "stream",
     "text": [
      "h\n",
      "e\n",
      "l\n",
      "l\n",
      "o\n",
      "h\n",
      "e\n",
      "l\n",
      "l\n",
      "o\n"
     ]
    }
   ],
   "source": [
    "for letter in s:\n",
    "    print(letter)\n",
    "    \n",
    "for i in range(len(s)):\n",
    "    print(s[i])"
   ]
  },
  {
   "cell_type": "code",
   "execution_count": 15,
   "id": "a51a684a",
   "metadata": {
    "scrolled": true
   },
   "outputs": [
    {
     "ename": "TypeError",
     "evalue": "unsupported operand type(s) for +: 'int' and 'str'",
     "output_type": "error",
     "traceback": [
      "\u001b[1;31m---------------------------------------------------------------------------\u001b[0m",
      "\u001b[1;31mTypeError\u001b[0m                                 Traceback (most recent call last)",
      "Input \u001b[1;32mIn [15]\u001b[0m, in \u001b[0;36m<cell line: 1>\u001b[1;34m()\u001b[0m\n\u001b[1;32m----> 1\u001b[0m \u001b[38;5;241;43m1\u001b[39;49m\u001b[38;5;241;43m+\u001b[39;49m\u001b[38;5;124;43m\"\u001b[39;49m\u001b[38;5;124;43mh\u001b[39;49m\u001b[38;5;124;43m\"\u001b[39;49m\n",
      "\u001b[1;31mTypeError\u001b[0m: unsupported operand type(s) for +: 'int' and 'str'"
     ]
    }
   ],
   "source": [
    "1+\"h\""
   ]
  },
  {
   "cell_type": "code",
   "execution_count": 11,
   "id": "b91f534f",
   "metadata": {},
   "outputs": [
    {
     "name": "stdout",
     "output_type": "stream",
     "text": [
      "Iteration 0; count is: 12\n",
      "Iteration 1; count is: 24\n",
      "Iteration 2; count is: 36\n",
      "Iteration 3; count is: 48\n",
      "Iteration 4; count is: 60\n"
     ]
    }
   ],
   "source": [
    "iteration = 0\n",
    "count = 0\n",
    "while iteration < 5:\n",
    "    # the variable 'letter' in the loop stands for every \n",
    "    # character, including spaces and commas!\n",
    "    for letter in \"hello, world\": \n",
    "        count += 1\n",
    "    print(\"Iteration \" + str(iteration) + \"; count is: \" + str(count))\n",
    "    iteration += 1 "
   ]
  },
  {
   "cell_type": "code",
   "execution_count": 22,
   "id": "df3bf914",
   "metadata": {},
   "outputs": [
    {
     "name": "stdout",
     "output_type": "stream",
     "text": [
      "took 12 guesses\n"
     ]
    }
   ],
   "source": [
    "x=25\n",
    "epi=0.01\n",
    "numGuesses=0\n",
    "low=1.0\n",
    "high=x\n",
    "ans=(low+high)/2.0\n",
    "\n",
    "while abs(ans**2 -x) >= epi:\n",
    "    numGuesses=numGuesses+1\n",
    "    if ans**2 <x:\n",
    "        low=ans\n",
    "    else:\n",
    "        high=ans\n",
    "    ans=(high+low)/2.0\n",
    "print(\"took\",numGuesses, \"guesses\")"
   ]
  },
  {
   "cell_type": "markdown",
   "id": "494fa89b",
   "metadata": {},
   "source": [
    "In this problem, you'll create a program that guesses a secret number!\n",
    "\n",
    "The program works as follows: you (the user) thinks of an integer between 0 (inclusive) and 100 (not inclusive). The computer makes guesses, and you give it input - is its guess too high or too low? Using bisection search, the computer will guess the user's secret number!"
   ]
  },
  {
   "cell_type": "code",
   "execution_count": 46,
   "id": "f402d36e",
   "metadata": {},
   "outputs": [
    {
     "name": "stdout",
     "output_type": "stream",
     "text": [
      "Is your secret number50h\n",
      "Is your secret number25l\n",
      "Is your secret number37l\n",
      "Is your secret number43h\n",
      "Is your secret number40l\n",
      "Is your secret number41l\n",
      "Is your secret number42c\n",
      "Yay! I guessed the right number!\n",
      "It took me  7 guesses\n"
     ]
    }
   ],
   "source": [
    "number=42\n",
    "lower=0\n",
    "higher=99\n",
    "\n",
    "guess=1+(lower+higher)//2\n",
    "correct=False\n",
    "num_guesses=0\n",
    "while correct == False:\n",
    "    num_guesses=num_guesses+1\n",
    "    prompt=\"Is your secret number\" + str(guess)\n",
    "    usrResp=input(prompt)\n",
    "    if usrResp == \"c\":\n",
    "        print(\"Yay! I guessed the right number!\")\n",
    "        print(\"It took me \",num_guesses, \"guesses\")\n",
    "        correct=True\n",
    "    elif usrResp == \"l\":\n",
    "        lower=guess\n",
    "    elif usrResp ==\"h\":\n",
    "        higher=guess\n",
    "    guess=(lower+higher)//2"
   ]
  },
  {
   "cell_type": "code",
   "execution_count": 36,
   "id": "14ff5fe9",
   "metadata": {},
   "outputs": [
    {
     "name": "stdout",
     "output_type": "stream",
     "text": [
      "Is your secret number 49no\n"
     ]
    },
    {
     "data": {
      "text/plain": [
       "'no'"
      ]
     },
     "execution_count": 36,
     "metadata": {},
     "output_type": "execute_result"
    }
   ],
   "source": [
    "prompt=\"Is your secret number \"+str(guess)\n",
    "input(prompt)"
   ]
  },
  {
   "cell_type": "code",
   "execution_count": 39,
   "id": "57e41d19",
   "metadata": {},
   "outputs": [
    {
     "data": {
      "text/plain": [
       "48"
      ]
     },
     "execution_count": 39,
     "metadata": {},
     "output_type": "execute_result"
    }
   ],
   "source": [
    "97//2"
   ]
  },
  {
   "cell_type": "markdown",
   "id": "b0ebf44d",
   "metadata": {},
   "source": [
    "Functions"
   ]
  },
  {
   "cell_type": "code",
   "execution_count": 10,
   "id": "9dedecba",
   "metadata": {},
   "outputs": [],
   "source": [
    "def is_even(x):\n",
    "    \"\"\"\n",
    "    This is a doc string\n",
    "    Input: x an integer\n",
    "    Output: True is even, False if odd\n",
    "    \"\"\"\n",
    "    if x % 2 ==0:\n",
    "        return True\n",
    "    else:\n",
    "        return False\n",
    "     \n",
    "    "
   ]
  },
  {
   "cell_type": "markdown",
   "id": "9c1c54cd",
   "metadata": {},
   "source": [
    "Write a Python function, evalQuadratic(a, b, c, x), that returns the value of the quadratic .\n",
    "\n"
   ]
  },
  {
   "cell_type": "code",
   "execution_count": 26,
   "id": "799b02f7",
   "metadata": {},
   "outputs": [],
   "source": [
    "r=2\n",
    "def evalQuadratic(a,b,c,x):\n",
    "    print(a)\n",
    "    print(r)\n",
    "    rr=44\n",
    "    return a*(x**2)+(b*x)+c"
   ]
  },
  {
   "cell_type": "code",
   "execution_count": 27,
   "id": "31548fde",
   "metadata": {},
   "outputs": [
    {
     "name": "stdout",
     "output_type": "stream",
     "text": [
      "1\n",
      "2\n",
      "35\n"
     ]
    },
    {
     "ename": "NameError",
     "evalue": "name 'rr' is not defined",
     "output_type": "error",
     "traceback": [
      "\u001b[1;31m---------------------------------------------------------------------------\u001b[0m",
      "\u001b[1;31mNameError\u001b[0m                                 Traceback (most recent call last)",
      "Input \u001b[1;32mIn [27]\u001b[0m, in \u001b[0;36m<cell line: 2>\u001b[1;34m()\u001b[0m\n\u001b[0;32m      1\u001b[0m \u001b[38;5;28mprint\u001b[39m(evalQuadratic(\u001b[38;5;241m1\u001b[39m,\u001b[38;5;241m4\u001b[39m,\u001b[38;5;241m3\u001b[39m,\u001b[38;5;241m4\u001b[39m))\n\u001b[1;32m----> 2\u001b[0m \u001b[38;5;28mprint\u001b[39m(\u001b[43mrr\u001b[49m)\n",
      "\u001b[1;31mNameError\u001b[0m: name 'rr' is not defined"
     ]
    }
   ],
   "source": [
    "print(evalQuadratic(1,4,3,4))\n",
    "print(rr)"
   ]
  },
  {
   "cell_type": "code",
   "execution_count": 30,
   "id": "ec21af08",
   "metadata": {},
   "outputs": [
    {
     "name": "stdout",
     "output_type": "stream",
     "text": [
      "35\n",
      "None\n"
     ]
    }
   ],
   "source": [
    "def evalQuadratic(a,b,c,x):\n",
    "\n",
    "    print(a*(x**2)+(b*x)+c)\n",
    "    \n",
    "print(evalQuadratic(1,4,3,4))"
   ]
  },
  {
   "cell_type": "code",
   "execution_count": 37,
   "id": "acc893a2",
   "metadata": {},
   "outputs": [
    {
     "name": "stdout",
     "output_type": "stream",
     "text": [
      "Mistry   ashish\n",
      "ashish   Mistry\n",
      "ashish   Mistry\n"
     ]
    }
   ],
   "source": [
    "def reversename(first,last,reverse=True):\n",
    "    if reverse == True:\n",
    "        print(last,\" \",first)\n",
    "    else:\n",
    "        print(first,\" \",last)\n",
    "reversename(\"ashish\",\"Mistry\")\n",
    "reversename(\"ashish\",\"Mistry\",False)\n",
    "reversename(reverse=False,first=\"ashish\",last=\"Mistry\")"
   ]
  },
  {
   "cell_type": "code",
   "execution_count": 3,
   "id": "a7a71436",
   "metadata": {},
   "outputs": [],
   "source": [
    "s1=\"my string\""
   ]
  },
  {
   "cell_type": "code",
   "execution_count": 11,
   "id": "433318eb",
   "metadata": {},
   "outputs": [
    {
     "data": {
      "text/plain": [
       "'S'"
      ]
     },
     "execution_count": 11,
     "metadata": {},
     "output_type": "execute_result"
    }
   ],
   "source": [
    "s1[3].capitalize()"
   ]
  },
  {
   "cell_type": "code",
   "execution_count": 15,
   "id": "13124a6e",
   "metadata": {},
   "outputs": [
    {
     "data": {
      "text/plain": [
       "16"
      ]
     },
     "execution_count": 15,
     "metadata": {},
     "output_type": "execute_result"
    }
   ],
   "source": [
    "pow(2,4)"
   ]
  },
  {
   "cell_type": "code",
   "execution_count": 28,
   "id": "6e8829fd",
   "metadata": {},
   "outputs": [
    {
     "data": {
      "text/plain": [
       "True"
      ]
     },
     "execution_count": 28,
     "metadata": {},
     "output_type": "execute_result"
    }
   ],
   "source": [
    "30 % 2 == 0"
   ]
  },
  {
   "cell_type": "markdown",
   "id": "fa6f96ea",
   "metadata": {},
   "source": [
    "Recursion"
   ]
  },
  {
   "cell_type": "code",
   "execution_count": 32,
   "id": "c3cead13",
   "metadata": {},
   "outputs": [
    {
     "name": "stdout",
     "output_type": "stream",
     "text": [
      "8\n",
      "8\n",
      "8\n"
     ]
    }
   ],
   "source": [
    "a=2\n",
    "b=4\n",
    "print(a*b)\n",
    "print(a+a*(b-1))\n",
    "\n",
    "def mult_rec(a,b):\n",
    "    if b==1:\n",
    "        return a\n",
    "    else:\n",
    "        return a+mult_rec(a,b-1)\n",
    "print(mult_rec(a,b))"
   ]
  },
  {
   "cell_type": "code",
   "execution_count": 36,
   "id": "497d2a52",
   "metadata": {},
   "outputs": [
    {
     "name": "stdout",
     "output_type": "stream",
     "text": [
      "24\n"
     ]
    }
   ],
   "source": [
    "n=4\n",
    "def factorial_rec(n):\n",
    "    # base case\n",
    "    if n ==1:\n",
    "        return 1\n",
    "    else: # recursive step\n",
    "        return n*factorial_rec(n-1)\n",
    "print(factorial_rec(n))"
   ]
  },
  {
   "cell_type": "code",
   "execution_count": 49,
   "id": "c06b58a4",
   "metadata": {},
   "outputs": [
    {
     "name": "stdout",
     "output_type": "stream",
     "text": [
      "0 2\n",
      "1 4\n",
      "2 8\n"
     ]
    }
   ],
   "source": [
    "base=2\n",
    "exp=3\n",
    "result =1\n",
    "for x in range(exp):\n",
    "    result = result*base"
   ]
  },
  {
   "cell_type": "code",
   "execution_count": 65,
   "id": "58ede8c0",
   "metadata": {},
   "outputs": [
    {
     "name": "stdout",
     "output_type": "stream",
     "text": [
      "1\n"
     ]
    }
   ],
   "source": [
    "def power_rec(base,exp):\n",
    "    if exp ==1:\n",
    "        return base\n",
    "    elif exp ==0:\n",
    "        return 1\n",
    "    else:\n",
    "        return base*power_rec(base,exp-1)\n",
    "print(power_rec(-.6,0))"
   ]
  },
  {
   "cell_type": "markdown",
   "id": "a2ede5df",
   "metadata": {},
   "source": [
    "The greatest common divisor of two positive integers is the largest integer that divides each of them without remainder. For example,\n",
    "\n",
    "\n",
    "\n",
    "gcd(2, 12) = 2\n",
    "\n",
    "gcd(6, 12) = 6\n",
    "\n",
    "gcd(9, 12) = 3\n",
    "\n",
    "gcd(17, 12) = 1\n",
    "\n",
    "Write an iterative function, gcdIter(a, b), that implements this idea"
   ]
  },
  {
   "cell_type": "code",
   "execution_count": 44,
   "id": "d70e967f",
   "metadata": {},
   "outputs": [
    {
     "name": "stdout",
     "output_type": "stream",
     "text": [
      "1\n"
     ]
    }
   ],
   "source": [
    "def gcdIter(a, b):\n",
    "    '''\n",
    "    a, b: positive integers\n",
    "    \n",
    "    returns: a positive integer, the greatest common divisor of a & b.\n",
    "    '''\n",
    "    # Your code here\n",
    "    # the smallest of the 2 inputs will be the starting gcd\n",
    "    \n",
    "    if a>b:\n",
    "        gcd=b\n",
    "    else:\n",
    "        gcd=a\n",
    "\n",
    "    while ((a%gcd==0) & (b%gcd==0))==False:\n",
    "        gcd=gcd-1\n",
    "    return gcd\n",
    "\n",
    "print(gcdIter(17,12))"
   ]
  },
  {
   "cell_type": "markdown",
   "id": "5f2ca0c8",
   "metadata": {},
   "source": [
    "If b = 0, then the answer is a\n",
    "\n",
    "Otherwise, gcd(a, b) is the same as gcd(b, a % b)"
   ]
  },
  {
   "cell_type": "code",
   "execution_count": 52,
   "id": "9f5d6e57",
   "metadata": {},
   "outputs": [
    {
     "name": "stdout",
     "output_type": "stream",
     "text": [
      "3\n"
     ]
    }
   ],
   "source": [
    "def gcdRecur(a, b):\n",
    "    '''\n",
    "    a, b: positive integers\n",
    "    \n",
    "    returns: a positive integer, the greatest common divisor of a & b.\n",
    "    '''\n",
    "    # Your code here\n",
    "    if b ==0:\n",
    "        return a\n",
    "    else:\n",
    "        return gcdRecur(b,a%b)\n",
    "print(gcdRecur(9,12))"
   ]
  },
  {
   "cell_type": "markdown",
   "id": "54ca7bf6",
   "metadata": {},
   "source": [
    "modules"
   ]
  },
  {
   "cell_type": "code",
   "execution_count": 71,
   "id": "3c172b06",
   "metadata": {},
   "outputs": [],
   "source": [
    "import circle_func"
   ]
  },
  {
   "cell_type": "code",
   "execution_count": 76,
   "id": "e36c3c53",
   "metadata": {},
   "outputs": [
    {
     "name": "stdout",
     "output_type": "stream",
     "text": [
      "18.849539999999998\n",
      "28.27431\n"
     ]
    }
   ],
   "source": [
    "print(circle_func.circumference(3))\n",
    "print(circle_func.area(3))"
   ]
  },
  {
   "cell_type": "code",
   "execution_count": 79,
   "id": "e4ff8b1a",
   "metadata": {},
   "outputs": [
    {
     "name": "stdout",
     "output_type": "stream",
     "text": [
      "28.27431\n",
      "18.849539999999998\n"
     ]
    }
   ],
   "source": [
    "from circle_func import *\n",
    "print(area(3))\n",
    "print(circumference(3))"
   ]
  },
  {
   "cell_type": "code",
   "execution_count": null,
   "id": "67e3782c",
   "metadata": {},
   "outputs": [],
   "source": []
  }
 ],
 "metadata": {
  "kernelspec": {
   "display_name": "Python 3 (ipykernel)",
   "language": "python",
   "name": "python3"
  },
  "language_info": {
   "codemirror_mode": {
    "name": "ipython",
    "version": 3
   },
   "file_extension": ".py",
   "mimetype": "text/x-python",
   "name": "python",
   "nbconvert_exporter": "python",
   "pygments_lexer": "ipython3",
   "version": "3.9.12"
  }
 },
 "nbformat": 4,
 "nbformat_minor": 5
}
