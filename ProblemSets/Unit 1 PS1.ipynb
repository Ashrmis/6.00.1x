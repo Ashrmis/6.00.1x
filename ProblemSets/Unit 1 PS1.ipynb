{
 "cells": [
  {
   "cell_type": "markdown",
   "id": "bd3aeb0e",
   "metadata": {},
   "source": [
    "### Problem 1\n",
    "Assume s is a string of lower case characters.\n",
    "\n",
    "Write a program that counts up the number of vowels contained in the string s. Valid vowels are: 'a', 'e', 'i', 'o', and 'u'. For example, if s = 'azcbobobegghakl', your program should print:"
   ]
  },
  {
   "cell_type": "code",
   "execution_count": 9,
   "id": "ff609cf0",
   "metadata": {},
   "outputs": [
    {
     "name": "stdout",
     "output_type": "stream",
     "text": [
      "Number of vowels:  5\n"
     ]
    }
   ],
   "source": [
    "s = 'azcbobobegghakl'\n",
    "count =0\n",
    "for x in range(0,len(s)):\n",
    "    letter=s[x]\n",
    "    test_vowel=letter in ('a','e','i','o','u')\n",
    "    if test_vowel ==True:\n",
    "        count=count+1\n",
    "\n",
    "print(\"Number of vowels: \",count)"
   ]
  },
  {
   "cell_type": "markdown",
   "id": "9eb4a730",
   "metadata": {},
   "source": [
    "### Problem 2\n",
    "Assume s is a string of lower case characters.\n",
    "\n",
    "Write a program that prints the number of times the string 'bob' occurs in s. For example, if s = 'azcbobobegghakl', then your program should print \n",
    "Number of times bob occurs is: 2"
   ]
  },
  {
   "cell_type": "code",
   "execution_count": 11,
   "id": "67c51e9b",
   "metadata": {},
   "outputs": [],
   "source": [
    "s = 'azcbobobegghakl'"
   ]
  },
  {
   "cell_type": "code",
   "execution_count": 30,
   "id": "8803722c",
   "metadata": {},
   "outputs": [
    {
     "name": "stdout",
     "output_type": "stream",
     "text": [
      "Number of times bob occurs is:  2\n"
     ]
    }
   ],
   "source": [
    "# bob is length 3, so loop with a step of 3\n",
    "count =0\n",
    "for x in range(0,len(s)):\n",
    "    len3_chunk=s[x:x+3]\n",
    "    if len3_chunk==\"bob\":\n",
    "        count=count+1\n",
    "print(\"Number of times bob occurs is: \",count)\n"
   ]
  },
  {
   "cell_type": "code",
   "execution_count": 18,
   "id": "5191e4f5",
   "metadata": {},
   "outputs": [
    {
     "data": {
      "text/plain": [
       "'azcb'"
      ]
     },
     "execution_count": 18,
     "metadata": {},
     "output_type": "execute_result"
    }
   ],
   "source": []
  },
  {
   "cell_type": "code",
   "execution_count": null,
   "id": "ebb1bb91",
   "metadata": {},
   "outputs": [],
   "source": []
  }
 ],
 "metadata": {
  "kernelspec": {
   "display_name": "Python 3 (ipykernel)",
   "language": "python",
   "name": "python3"
  },
  "language_info": {
   "codemirror_mode": {
    "name": "ipython",
    "version": 3
   },
   "file_extension": ".py",
   "mimetype": "text/x-python",
   "name": "python",
   "nbconvert_exporter": "python",
   "pygments_lexer": "ipython3",
   "version": "3.9.12"
  }
 },
 "nbformat": 4,
 "nbformat_minor": 5
}
