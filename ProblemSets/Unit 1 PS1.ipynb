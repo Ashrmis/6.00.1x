{
 "cells": [
  {
   "cell_type": "markdown",
   "id": "bd3aeb0e",
   "metadata": {},
   "source": [
    "### Problem 1\n",
    "Assume s is a string of lower case characters.\n",
    "\n",
    "Write a program that counts up the number of vowels contained in the string s. Valid vowels are: 'a', 'e', 'i', 'o', and 'u'. For example, if s = 'azcbobobegghakl', your program should print:"
   ]
  },
  {
   "cell_type": "code",
   "execution_count": 9,
   "id": "ff609cf0",
   "metadata": {},
   "outputs": [
    {
     "name": "stdout",
     "output_type": "stream",
     "text": [
      "Number of vowels:  5\n"
     ]
    }
   ],
   "source": [
    "s = 'azcbobobegghakl'\n",
    "count =0\n",
    "for x in range(0,len(s)):\n",
    "    letter=s[x]\n",
    "    test_vowel=letter in ('a','e','i','o','u')\n",
    "    if test_vowel ==True:\n",
    "        count=count+1\n",
    "\n",
    "print(\"Number of vowels: \",count)"
   ]
  },
  {
   "cell_type": "markdown",
   "id": "9eb4a730",
   "metadata": {},
   "source": [
    "### Problem 2\n",
    "Assume s is a string of lower case characters.\n",
    "\n",
    "Write a program that prints the number of times the string 'bob' occurs in s. For example, if s = 'azcbobobegghakl', then your program should print \n",
    "Number of times bob occurs is: 2"
   ]
  },
  {
   "cell_type": "code",
   "execution_count": 11,
   "id": "67c51e9b",
   "metadata": {},
   "outputs": [],
   "source": [
    "s = 'azcbobobegghakl'"
   ]
  },
  {
   "cell_type": "code",
   "execution_count": 30,
   "id": "8803722c",
   "metadata": {},
   "outputs": [
    {
     "name": "stdout",
     "output_type": "stream",
     "text": [
      "Number of times bob occurs is:  2\n"
     ]
    }
   ],
   "source": [
    "# bob is length 3, so loop with a step of 3\n",
    "count =0\n",
    "for x in range(0,len(s)):\n",
    "    len3_chunk=s[x:x+3]\n",
    "    if len3_chunk==\"bob\":\n",
    "        count=count+1\n",
    "print(\"Number of times bob occurs is: \",count)\n"
   ]
  },
  {
   "cell_type": "markdown",
   "id": "c6b1b7bf",
   "metadata": {},
   "source": [
    "### Problem 3 (Incomplete)\n",
    "Assume s is a string of lower case characters.\n",
    "\n",
    "Write a program that prints the longest substring of s in which the letters occur in alphabetical order. For example, if s = 'azcbobobegghakl', then your program should print\n",
    "\n",
    "Longest substring in alphabetical order is: beggh\n",
    "\n",
    "In the case of ties, print the first substring. For example, if s = 'abcbcd', then your program should print\n",
    "\n",
    "Longest substring in alphabetical order is: abc\n",
    "\n",
    "Note: This problem may be challenging. We encourage you to work smart. If you've spent more than a few hours on this problem, we suggest that you move on to a different part of the course. If you have time, come back to this problem after you've had a break and cleared your head."
   ]
  },
  {
   "cell_type": "code",
   "execution_count": null,
   "id": "ebb1bb91",
   "metadata": {},
   "outputs": [],
   "source": []
  },
  {
   "cell_type": "code",
   "execution_count": 88,
   "id": "ff625617",
   "metadata": {},
   "outputs": [
    {
     "name": "stdout",
     "output_type": "stream",
     "text": [
      "azcbobobegghakl\n"
     ]
    }
   ],
   "source": [
    "s = 'azcbobobegghakl'\n",
    "sub_s=\"\"\n",
    "\n",
    "# nested for loop\n",
    "print(s)\n",
    "for s_ind in range(1,len(s)): # go through pairs in order\n",
    "    prev_letter=s[s_ind-1]\n",
    "    curr_letter=s[s_ind]\n",
    "    \n",
    "    if curr_letter>=prev_letter:\n",
    "        sub_s=sub_s+prev_letter+curr_letter\n",
    "        prev_loc=s_ind-1\n",
    "        curr_loc=s_ind\n",
    "    else:\n",
    "        sub_s=\"\"\n",
    "        prev_loc=\"\"\n",
    "        curr_loc=\"\"\n",
    "  \n"
   ]
  },
  {
   "cell_type": "code",
   "execution_count": null,
   "id": "8e929982",
   "metadata": {},
   "outputs": [],
   "source": []
  },
  {
   "cell_type": "code",
   "execution_count": null,
   "id": "b3ae354d",
   "metadata": {},
   "outputs": [],
   "source": []
  },
  {
   "cell_type": "code",
   "execution_count": null,
   "id": "4479f70e",
   "metadata": {},
   "outputs": [],
   "source": []
  },
  {
   "cell_type": "code",
   "execution_count": null,
   "id": "92cc92da",
   "metadata": {},
   "outputs": [],
   "source": []
  }
 ],
 "metadata": {
  "kernelspec": {
   "display_name": "Python 3 (ipykernel)",
   "language": "python",
   "name": "python3"
  },
  "language_info": {
   "codemirror_mode": {
    "name": "ipython",
    "version": 3
   },
   "file_extension": ".py",
   "mimetype": "text/x-python",
   "name": "python",
   "nbconvert_exporter": "python",
   "pygments_lexer": "ipython3",
   "version": "3.9.12"
  }
 },
 "nbformat": 4,
 "nbformat_minor": 5
}
