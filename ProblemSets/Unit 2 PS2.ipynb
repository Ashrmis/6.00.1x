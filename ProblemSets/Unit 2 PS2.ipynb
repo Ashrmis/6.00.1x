{
 "cells": [
  {
   "cell_type": "markdown",
   "id": "d7c38c23",
   "metadata": {},
   "source": [
    "### Problem 1"
   ]
  },
  {
   "cell_type": "markdown",
   "id": "1b2d6130",
   "metadata": {},
   "source": [
    "Write a program to calculate the credit card balance after one year if a person only pays the minimum monthly payment required by the credit card company each month.\n",
    "The following variables contain values as described below:\n",
    "\n",
    "balance - the outstanding balance on the credit card\n",
    "\n",
    "annualInterestRate - annual interest rate as a decimal\n",
    "\n",
    "monthlyPaymentRate - minimum monthly payment rate as a decimal\n",
    "\n",
    "For each month, calculate statements on the monthly payment and remaining balance. At the end of 12 months, print out the remaining balance. Be sure to print out no more than two decimal digits of accuracy - so print\n",
    "Remaining balance: 813.41\n",
    "So your program only prints out one thing: the remaining balance at the end of the year in the format:\n",
    "\n",
    "Remaining balance: 4784.0\n",
    "A summary of the required math is found below:\n",
    "\n",
    "Monthly interest rate= (Annual interest rate) / 12.0\n",
    "\n",
    "Minimum monthly payment = (Minimum monthly payment rate) x (Previous balance)\n",
    "\n",
    "Monthly unpaid balance = (Previous balance) - (Minimum monthly payment)\n",
    "\n",
    "Updated balance each month = (Monthly unpaid balance) + (Monthly interest rate x Monthly unpaid balance)"
   ]
  },
  {
   "cell_type": "markdown",
   "id": "11e87fd8",
   "metadata": {},
   "source": [
    "\t      # Test Case 1:\n",
    "\t      balance = 42\n",
    "\t      annualInterestRate = 0.2\n",
    "\t      monthlyPaymentRate = 0.04\n",
    "\t      \n",
    "\t      # Result Your Code Should Generate Below:\n",
    "\t      Remaining balance: 31.38"
   ]
  },
  {
   "cell_type": "code",
   "execution_count": 14,
   "id": "c4bcace2",
   "metadata": {},
   "outputs": [
    {
     "name": "stdout",
     "output_type": "stream",
     "text": [
      "Remaining balance: 590.19\n"
     ]
    }
   ],
   "source": [
    "annualInterestRate = 0.2\n",
    "monthlyPaymentRate = 0.04\n",
    "balance = 484\n",
    "\n",
    "monthlyPayment=balance*monthlyPaymentRate\n",
    "unpaidBal=balance-monthlyPayment\n",
    "monthlyInterest=(annualInterestRate/12)*unpaidBal\n",
    "unpaidBal=round((monthlyInterest+unpaidBal),2)\n",
    "\n",
    "\n",
    "for mn in range(1,12):\n",
    "    balance=unpaidBal\n",
    "    monthlyPayment=balance*monthlyPaymentRate\n",
    "    unpaidBal=balance-monthlyPayment\n",
    "    monthlyInterest=(annualInterestRate/12)*unpaidBal\n",
    "    unpaidBal=monthlyInterest+unpaidBal\n",
    "\n",
    "print(\"Remaining balance:\",round(unpaidBal,2))\n",
    "        "
   ]
  },
  {
   "cell_type": "markdown",
   "id": "36b47ac1",
   "metadata": {},
   "source": [
    "### Problem 2"
   ]
  },
  {
   "cell_type": "markdown",
   "id": "615bf562",
   "metadata": {},
   "source": [
    "Now write a program that calculates the minimum fixed monthly payment needed in order pay off a credit card balance within 12 months. By a fixed monthly payment, we mean a single number which does not change each month, but instead is a constant amount that will be paid each month.\n",
    "\n",
    "In this problem, we will not be dealing with a minimum monthly payment rate.\n",
    "\n",
    "The following variables contain values as described below:\n",
    "\n",
    "balance - the outstanding balance on the credit card\n",
    "\n",
    "annualInterestRate - annual interest rate as a decimal\n",
    "\n",
    "The program should print out one line: the lowest monthly payment that will pay off all debt in under 1 year, for example:\n",
    "\n",
    "Lowest Payment: 180 \n",
    "\n",
    "Assume that the interest is compounded monthly according to the balance at the end of the month (after the payment for that month is made). The monthly payment must be a multiple of $10 and is the same for all months. Notice that it is possible for the balance to become negative using this payment scheme, which is okay. A summary of the required math is found below:\n",
    "\n",
    "Monthly interest rate = (Annual interest rate) / 12.0\n",
    "\n",
    "Monthly unpaid balance = (Previous balance) - (Minimum fixed monthly payment)\n",
    "\n",
    "Updated balance each month = (Monthly unpaid balance) + (Monthly interest rate x Monthly unpaid balance)\n"
   ]
  },
  {
   "cell_type": "markdown",
   "id": "4b7ac88c",
   "metadata": {},
   "source": [
    "Test Case 1:\n",
    "\n",
    "balance = 3329\n",
    "\n",
    "annualInterestRate = 0.2\n",
    "\n",
    "Result Your Code Should Generate:\n",
    "\n",
    "Lowest Payment: 310\n",
    "\n",
    "\n",
    "\n",
    "Test Case 2:\n",
    "\n",
    "balance = 4773\n",
    "\n",
    "annualInterestRate = 0.2\n",
    "\n",
    "Result Your Code Should Generate:\n",
    "\n",
    "Lowest Payment: 440\n",
    "\n",
    "\n",
    "Test Case 3:\n",
    "\n",
    "balance = 3926\n",
    "\n",
    "annualInterestRate = 0.2\n",
    "\n",
    "Result Your Code Should Generate:\n",
    "\n",
    "Lowest Payment: 360"
   ]
  },
  {
   "cell_type": "code",
   "execution_count": 48,
   "id": "39ab4638",
   "metadata": {},
   "outputs": [
    {
     "name": "stdout",
     "output_type": "stream",
     "text": [
      "440\n"
     ]
    }
   ],
   "source": [
    "balance = 4773\n",
    "annualInterestRate = 0.2\n",
    "minPayment=10\n",
    "\n",
    "def remainYrBal(balance,monthlyPayment):\n",
    "    '''\n",
    "    Inital balance\n",
    "    monthly payment\n",
    "    '''\n",
    "\n",
    "    for mn in range(12):\n",
    "        unpaidBal=balance-monthlyPayment\n",
    "        monthlyInterest=(annualInterestRate/12)*unpaidBal\n",
    "        unpaidBal=monthlyInterest+unpaidBal\n",
    "        balance=unpaidBal\n",
    "    return round(unpaidBal,2)\n",
    "\n",
    "updated_balance=balance\n",
    "\n",
    "while updated_balance > 0:\n",
    "    minPayment+=10\n",
    "    updated_balance=remainYrBal(balance,minPayment)\n",
    "\n",
    "print(minPayment)\n"
   ]
  },
  {
   "cell_type": "markdown",
   "id": "bca262c6",
   "metadata": {},
   "source": [
    "### Problem 3- Using Bisection Search to make program faster"
   ]
  },
  {
   "cell_type": "code",
   "execution_count": null,
   "id": "f8a89a0c",
   "metadata": {},
   "outputs": [],
   "source": []
  },
  {
   "cell_type": "code",
   "execution_count": 75,
   "id": "ae51d24b",
   "metadata": {},
   "outputs": [
    {
     "name": "stdout",
     "output_type": "stream",
     "text": [
      "Lowest Payment: 29157.09\n"
     ]
    }
   ],
   "source": [
    "annualInterestRate=.2\n",
    "balance=320000\n",
    "\n",
    "init_balance = balance\n",
    "monthlyInterestRate = annualInterestRate/12\n",
    "lower = init_balance/12\n",
    "upper = (init_balance * (1 + monthlyInterestRate)**12)/12.0\n",
    "epsilon = 0.03\n",
    "\n",
    "while abs(balance) > epsilon:\n",
    "    monthlyPaymentRate = (upper + lower)/2\n",
    "    balance = init_balance\n",
    "    for i in range(12):\n",
    "        balance = balance - monthlyPaymentRate + ((balance - monthlyPaymentRate) * monthlyInterestRate)\n",
    "    if balance > epsilon:\n",
    "        lower = monthlyPaymentRate\n",
    "    elif balance < -epsilon:\n",
    "        upper = monthlyPaymentRate\n",
    "    else:\n",
    "        break\n",
    "print('Lowest Payment:', round(monthlyPaymentRate, 2))"
   ]
  },
  {
   "cell_type": "code",
   "execution_count": null,
   "id": "e5dbb4bd",
   "metadata": {},
   "outputs": [],
   "source": []
  }
 ],
 "metadata": {
  "kernelspec": {
   "display_name": "Python 3 (ipykernel)",
   "language": "python",
   "name": "python3"
  },
  "language_info": {
   "codemirror_mode": {
    "name": "ipython",
    "version": 3
   },
   "file_extension": ".py",
   "mimetype": "text/x-python",
   "name": "python",
   "nbconvert_exporter": "python",
   "pygments_lexer": "ipython3",
   "version": "3.9.12"
  }
 },
 "nbformat": 4,
 "nbformat_minor": 5
}
