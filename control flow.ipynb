{
 "cells": [
  {
   "cell_type": "code",
   "execution_count": 2,
   "id": "0731715c",
   "metadata": {},
   "outputs": [
    {
     "name": "stdout",
     "output_type": "stream",
     "text": [
      "0\n",
      "1\n",
      "2\n",
      "3\n",
      "4\n"
     ]
    }
   ],
   "source": [
    "# while loops\n",
    "n=0\n",
    "while n<5:\n",
    "    print(n)\n",
    "    n=n+1"
   ]
  },
  {
   "cell_type": "code",
   "execution_count": 8,
   "id": "536eb975",
   "metadata": {},
   "outputs": [
    {
     "name": "stdout",
     "output_type": "stream",
     "text": [
      "range(0, 10)\n"
     ]
    }
   ],
   "source": [
    "print(range(10))"
   ]
  },
  {
   "cell_type": "code",
   "execution_count": 7,
   "id": "e2d35301",
   "metadata": {},
   "outputs": [
    {
     "name": "stdout",
     "output_type": "stream",
     "text": [
      "0\n",
      "1\n",
      "2\n",
      "3\n",
      "4\n",
      "5\n",
      "6\n",
      "7\n",
      "8\n",
      "9\n"
     ]
    }
   ],
   "source": [
    "for n in range(10):\n",
    "    print(n)"
   ]
  },
  {
   "cell_type": "code",
   "execution_count": 13,
   "id": "6860f83b",
   "metadata": {},
   "outputs": [
    {
     "name": "stdout",
     "output_type": "stream",
     "text": [
      "5\n",
      "7\n",
      "9\n"
     ]
    }
   ],
   "source": [
    "for n in range(5,11,2): # start stop step\n",
    "    print(n) # goes until stop-1"
   ]
  },
  {
   "cell_type": "code",
   "execution_count": 16,
   "id": "a8881535",
   "metadata": {},
   "outputs": [
    {
     "name": "stdout",
     "output_type": "stream",
     "text": [
      "0\n",
      "1\n",
      "2\n",
      "3\n",
      "4\n",
      "5\n",
      "6\n",
      "7\n",
      "8\n"
     ]
    }
   ],
   "source": [
    "str1=\"123456789\"\n",
    "for i in range(len(str1)): # range(9)\n",
    "    print(i)"
   ]
  },
  {
   "cell_type": "code",
   "execution_count": 22,
   "id": "89769ba3",
   "metadata": {},
   "outputs": [
    {
     "name": "stdout",
     "output_type": "stream",
     "text": [
      "0 cumlative sum is:  0\n",
      "1 cumlative sum is:  1\n",
      "2 cumlative sum is:  3\n",
      "3 cumlative sum is:  6\n",
      "4 cumlative sum is:  10\n",
      "5 cumlative sum is:  15\n",
      "Sum greater than 20... ending early on iteration 6\n"
     ]
    }
   ],
   "source": [
    "str1=\"123456789\"\n",
    "cumsum=0\n",
    "for i in range(0,len(str1)+1): \n",
    "    cumsum=int(i)+cumsum\n",
    "    \n",
    "    if cumsum > 20:\n",
    "        print(\"Sum greater than 20... ending early on iteration\",i)\n",
    "        break\n",
    "    print(i,\"cumlative sum is: \",cumsum)"
   ]
  },
  {
   "cell_type": "code",
   "execution_count": 26,
   "id": "5b5f168f",
   "metadata": {},
   "outputs": [],
   "source": [
    "rr= 3 in (33,4,5)"
   ]
  },
  {
   "cell_type": "code",
   "execution_count": 27,
   "id": "db351b74",
   "metadata": {},
   "outputs": [
    {
     "data": {
      "text/plain": [
       "False"
      ]
     },
     "execution_count": 27,
     "metadata": {},
     "output_type": "execute_result"
    }
   ],
   "source": [
    "rr"
   ]
  },
  {
   "cell_type": "code",
   "execution_count": null,
   "id": "113859e1",
   "metadata": {},
   "outputs": [],
   "source": []
  }
 ],
 "metadata": {
  "kernelspec": {
   "display_name": "Python 3 (ipykernel)",
   "language": "python",
   "name": "python3"
  },
  "language_info": {
   "codemirror_mode": {
    "name": "ipython",
    "version": 3
   },
   "file_extension": ".py",
   "mimetype": "text/x-python",
   "name": "python",
   "nbconvert_exporter": "python",
   "pygments_lexer": "ipython3",
   "version": "3.9.12"
  }
 },
 "nbformat": 4,
 "nbformat_minor": 5
}
