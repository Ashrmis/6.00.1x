{
 "cells": [
  {
   "cell_type": "code",
   "execution_count": 32,
   "id": "f96245ea",
   "metadata": {},
   "outputs": [],
   "source": [
    "name=\"First Middle Last\""
   ]
  },
  {
   "cell_type": "code",
   "execution_count": 33,
   "id": "fa9f9f13",
   "metadata": {},
   "outputs": [
    {
     "data": {
      "text/plain": [
       "'r'"
      ]
     },
     "execution_count": 33,
     "metadata": {},
     "output_type": "execute_result"
    }
   ],
   "source": [
    "name[2]"
   ]
  },
  {
   "cell_type": "code",
   "execution_count": 34,
   "id": "f359fe0b",
   "metadata": {},
   "outputs": [
    {
     "data": {
      "text/plain": [
       "'First Middle Last'"
      ]
     },
     "execution_count": 34,
     "metadata": {},
     "output_type": "execute_result"
    }
   ],
   "source": [
    "name[:]"
   ]
  },
  {
   "cell_type": "code",
   "execution_count": 35,
   "id": "a3207daa",
   "metadata": {},
   "outputs": [
    {
     "data": {
      "text/plain": [
       "'st Middle Last'"
      ]
     },
     "execution_count": 35,
     "metadata": {},
     "output_type": "execute_result"
    }
   ],
   "source": [
    "name[3:]"
   ]
  },
  {
   "cell_type": "code",
   "execution_count": 36,
   "id": "631034d4",
   "metadata": {},
   "outputs": [
    {
     "data": {
      "text/plain": [
       "'bcbcbc'"
      ]
     },
     "execution_count": 36,
     "metadata": {},
     "output_type": "execute_result"
    }
   ],
   "source": [
    "3*\"bc\""
   ]
  },
  {
   "cell_type": "code",
   "execution_count": 40,
   "id": "301be1fd",
   "metadata": {},
   "outputs": [
    {
     "name": "stdout",
     "output_type": "stream",
     "text": [
      "FrtMdl at\n",
      "FrtMdl at\n"
     ]
    }
   ],
   "source": [
    "print(name[0::2])\n",
    "print(name[0:len(name):2])"
   ]
  },
  {
   "cell_type": "code",
   "execution_count": 42,
   "id": "6d67df76",
   "metadata": {},
   "outputs": [
    {
     "data": {
      "text/plain": [
       "True"
      ]
     },
     "execution_count": 42,
     "metadata": {},
     "output_type": "execute_result"
    }
   ],
   "source": [
    "# first is in name so we get True\n",
    "\"First\" in name"
   ]
  },
  {
   "cell_type": "code",
   "execution_count": 47,
   "id": "8036a943",
   "metadata": {},
   "outputs": [
    {
     "data": {
      "text/plain": [
       "False"
      ]
     },
     "execution_count": 47,
     "metadata": {},
     "output_type": "execute_result"
    }
   ],
   "source": [
    "# first is in name so we get False\n",
    "\"First\"  not in name "
   ]
  },
  {
   "cell_type": "code",
   "execution_count": 55,
   "id": "8a106b57",
   "metadata": {},
   "outputs": [
    {
     "data": {
      "text/plain": [
       "'t'"
      ]
     },
     "execution_count": 55,
     "metadata": {},
     "output_type": "execute_result"
    }
   ],
   "source": [
    "name[-1]"
   ]
  },
  {
   "cell_type": "code",
   "execution_count": 58,
   "id": "3b37f585",
   "metadata": {},
   "outputs": [
    {
     "data": {
      "text/plain": [
       "'First Middle Last | First Middle Last'"
      ]
     },
     "execution_count": 58,
     "metadata": {},
     "output_type": "execute_result"
    }
   ],
   "source": [
    "name + \" | \" + name"
   ]
  },
  {
   "cell_type": "code",
   "execution_count": 62,
   "id": "553c6749",
   "metadata": {},
   "outputs": [
    {
     "data": {
      "text/plain": [
       "False"
      ]
     },
     "execution_count": 62,
     "metadata": {},
     "output_type": "execute_result"
    }
   ],
   "source": [
    "\"FirsT Middle Last\" == name"
   ]
  },
  {
   "cell_type": "code",
   "execution_count": 63,
   "id": "2a63a267",
   "metadata": {},
   "outputs": [
    {
     "data": {
      "text/plain": [
       "'is i'"
      ]
     },
     "execution_count": 63,
     "metadata": {},
     "output_type": "execute_result"
    }
   ],
   "source": [
    "name[1:9:2]"
   ]
  },
  {
   "cell_type": "code",
   "execution_count": 68,
   "id": "ecb5dd2f",
   "metadata": {},
   "outputs": [
    {
     "name": "stdout",
     "output_type": "stream",
     "text": [
      "this is name: First Middle Last \n",
      "This is name 2x  First Middle LastFirst Middle Last\n"
     ]
    }
   ],
   "source": [
    "print(\"this is name:\",name,\"\\nThis is name 2x \",name*2)"
   ]
  },
  {
   "cell_type": "code",
   "execution_count": 72,
   "id": "80fe8b27",
   "metadata": {},
   "outputs": [
    {
     "name": "stdout",
     "output_type": "stream",
     "text": [
      "Enter your age3\n",
      "3  has is type  <class 'str'>\n",
      "Enter your age3\n",
      "3  has is type  <class 'int'>\n"
     ]
    }
   ],
   "source": [
    "# cast\n",
    "age=input(\"Enter your age\")\n",
    "print(age,\" has is type \",type(age))\n",
    "age=int(input(\"Enter your age\"))\n",
    "print(age,\" has is type \",type(age))"
   ]
  },
  {
   "cell_type": "code",
   "execution_count": 77,
   "id": "46d441e1",
   "metadata": {},
   "outputs": [
    {
     "name": "stdout",
     "output_type": "stream",
     "text": [
      "Enter your age33\n",
      "probably not in undergrad\n"
     ]
    }
   ],
   "source": [
    "age=int(input(\"Enter your age\"))\n",
    "if age > 18 and age < 23:\n",
    "    print(\"You are probably in undergrad!\")\n",
    "else:\n",
    "    print(\"probably not in undergrad\")"
   ]
  },
  {
   "cell_type": "code",
   "execution_count": null,
   "id": "9320c23a",
   "metadata": {},
   "outputs": [],
   "source": []
  }
 ],
 "metadata": {
  "kernelspec": {
   "display_name": "Python 3 (ipykernel)",
   "language": "python",
   "name": "python3"
  },
  "language_info": {
   "codemirror_mode": {
    "name": "ipython",
    "version": 3
   },
   "file_extension": ".py",
   "mimetype": "text/x-python",
   "name": "python",
   "nbconvert_exporter": "python",
   "pygments_lexer": "ipython3",
   "version": "3.9.12"
  }
 },
 "nbformat": 4,
 "nbformat_minor": 5
}
