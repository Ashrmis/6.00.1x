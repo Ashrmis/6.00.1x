{
 "cells": [
  {
   "cell_type": "code",
   "execution_count": 6,
   "id": "d9fa3a38",
   "metadata": {},
   "outputs": [],
   "source": [
    "tups=(2,\"hello dfdf\",\"dfdfdf\")"
   ]
  },
  {
   "cell_type": "code",
   "execution_count": 7,
   "id": "e98a3ef8",
   "metadata": {},
   "outputs": [
    {
     "data": {
      "text/plain": [
       "(2, 'hello dfdf', 'dfdfdf')"
      ]
     },
     "execution_count": 7,
     "metadata": {},
     "output_type": "execute_result"
    }
   ],
   "source": [
    "tups"
   ]
  },
  {
   "cell_type": "code",
   "execution_count": 8,
   "id": "f9ac68f0",
   "metadata": {},
   "outputs": [
    {
     "data": {
      "text/plain": [
       "'hello dfdf'"
      ]
     },
     "execution_count": 8,
     "metadata": {},
     "output_type": "execute_result"
    }
   ],
   "source": [
    "tups[1]"
   ]
  },
  {
   "cell_type": "code",
   "execution_count": 9,
   "id": "63c1cf53",
   "metadata": {},
   "outputs": [
    {
     "ename": "TypeError",
     "evalue": "'tuple' object does not support item assignment",
     "output_type": "error",
     "traceback": [
      "\u001b[1;31m---------------------------------------------------------------------------\u001b[0m",
      "\u001b[1;31mTypeError\u001b[0m                                 Traceback (most recent call last)",
      "Input \u001b[1;32mIn [9]\u001b[0m, in \u001b[0;36m<cell line: 1>\u001b[1;34m()\u001b[0m\n\u001b[1;32m----> 1\u001b[0m tups[\u001b[38;5;241m1\u001b[39m]\u001b[38;5;241m=\u001b[39m\u001b[38;5;124m\"\u001b[39m\u001b[38;5;124mtry to change this\u001b[39m\u001b[38;5;124m\"\u001b[39m\n",
      "\u001b[1;31mTypeError\u001b[0m: 'tuple' object does not support item assignment"
     ]
    }
   ],
   "source": [
    "tups[1]=\"try to change this\""
   ]
  },
  {
   "cell_type": "code",
   "execution_count": 17,
   "id": "0fa6fb76",
   "metadata": {},
   "outputs": [
    {
     "data": {
      "text/plain": [
       "(2, 'hello dfdf')"
      ]
     },
     "execution_count": 17,
     "metadata": {},
     "output_type": "execute_result"
    }
   ],
   "source": [
    "tups[0:2]"
   ]
  },
  {
   "cell_type": "code",
   "execution_count": 27,
   "id": "20903eaf",
   "metadata": {},
   "outputs": [
    {
     "name": "stdout",
     "output_type": "stream",
     "text": [
      "13 1\n"
     ]
    }
   ],
   "source": [
    "x=1\n",
    "y=2\n",
    "def quo_remain(x,y):\n",
    "    quo=x//y\n",
    "    remain=x%y\n",
    "    return (quo,remain)\n",
    "(quotient,remainder)=quo_remain(40,3)\n",
    "print(quotient,remainder)"
   ]
  },
  {
   "cell_type": "code",
   "execution_count": 40,
   "id": "802fcdca",
   "metadata": {},
   "outputs": [
    {
     "data": {
      "text/plain": [
       "(2,)"
      ]
     },
     "execution_count": 40,
     "metadata": {},
     "output_type": "execute_result"
    }
   ],
   "source": [
    "(tups[0],)+()"
   ]
  },
  {
   "cell_type": "code",
   "execution_count": 62,
   "id": "50b89662",
   "metadata": {},
   "outputs": [],
   "source": [
    "def split_data(tuple_in):\n",
    "    '''\n",
    "    Input is a tuple of tuples where the sub-tuples have an integer in\n",
    "    the zero index and a string in the 1st index.\n",
    "    Output the number of numbers, min/max of the numbers, and unique\n",
    "    words\n",
    "    '''\n",
    "    num=()\n",
    "    words=()\n",
    "    for tup in tuple_in:\n",
    "        num=num+(tup[0],)\n",
    "        if tup[1] not in words:\n",
    "            words=words+(tup[1],)\n",
    "    min_num=min(num)\n",
    "    max_num=max(num)\n",
    "    uniq_words=words\n",
    "    \n",
    "    return(min_num,max_num,uniq_words)\n",
    "        "
   ]
  },
  {
   "cell_type": "code",
   "execution_count": 63,
   "id": "03a6ccca",
   "metadata": {},
   "outputs": [
    {
     "name": "stdout",
     "output_type": "stream",
     "text": [
      "1 22 ('df', 'lol')\n"
     ]
    }
   ],
   "source": [
    "(min_num,max_num,uniq_words)=split_data(((5,\"df\"),(1,\"df\"),(22,\"lol\")))\n",
    "print(min_num,max_num,uniq_words)"
   ]
  },
  {
   "cell_type": "code",
   "execution_count": 67,
   "id": "3ac2ef9c",
   "metadata": {},
   "outputs": [
    {
     "name": "stdout",
     "output_type": "stream",
     "text": [
      "(3, 'dd')\n"
     ]
    }
   ],
   "source": [
    "d=((2,\"hi\"),(3,\"dd\"))\n",
    "print(d[1])"
   ]
  },
  {
   "cell_type": "code",
   "execution_count": 68,
   "id": "b3458ad2",
   "metadata": {},
   "outputs": [],
   "source": [
    "tups=(1,2,\"hello world\",(\"my\",\"tuple\"))"
   ]
  },
  {
   "cell_type": "code",
   "execution_count": 72,
   "id": "250caa09",
   "metadata": {},
   "outputs": [
    {
     "data": {
      "text/plain": [
       "('my', 'tuple')"
      ]
     },
     "execution_count": 72,
     "metadata": {},
     "output_type": "execute_result"
    }
   ],
   "source": [
    "tups[3]"
   ]
  },
  {
   "cell_type": "code",
   "execution_count": 74,
   "id": "bcabde9c",
   "metadata": {},
   "outputs": [
    {
     "data": {
      "text/plain": [
       "4"
      ]
     },
     "execution_count": 74,
     "metadata": {},
     "output_type": "execute_result"
    }
   ],
   "source": [
    "len(tups)"
   ]
  },
  {
   "cell_type": "code",
   "execution_count": 83,
   "id": "4b8ae979",
   "metadata": {},
   "outputs": [
    {
     "name": "stdout",
     "output_type": "stream",
     "text": [
      "[1, 1, 2, 'hi']\n",
      "4\n",
      "[23232, 1, 2, 'hi']\n"
     ]
    }
   ],
   "source": [
    "list1=[1,1,2,\"hi\"]\n",
    "print(list1)\n",
    "print(len(list1))\n",
    "list1[0]=23232\n",
    "print(list1)"
   ]
  },
  {
   "cell_type": "code",
   "execution_count": 85,
   "id": "8a3e725a",
   "metadata": {},
   "outputs": [
    {
     "name": "stdout",
     "output_type": "stream",
     "text": [
      "40\n"
     ]
    }
   ],
   "source": [
    "l1=[1,4,6,7,22,0]\n",
    "sum=0\n",
    "for x in l1:\n",
    "    sum=sum+x\n",
    "print(sum)"
   ]
  },
  {
   "cell_type": "code",
   "execution_count": 92,
   "id": "93d5ba57",
   "metadata": {},
   "outputs": [
    {
     "ename": "SyntaxError",
     "evalue": "cannot assign to function call (373058836.py, line 1)",
     "output_type": "error",
     "traceback": [
      "\u001b[1;36m  Input \u001b[1;32mIn [92]\u001b[1;36m\u001b[0m\n\u001b[1;33m    tups(5)=(\"sds\")\u001b[0m\n\u001b[1;37m    ^\u001b[0m\n\u001b[1;31mSyntaxError\u001b[0m\u001b[1;31m:\u001b[0m cannot assign to function call\n"
     ]
    }
   ],
   "source": [
    "tups(5)=(\"sds\")"
   ]
  },
  {
   "cell_type": "code",
   "execution_count": 104,
   "id": "2857cc80",
   "metadata": {},
   "outputs": [],
   "source": [
    "l1.append(333)"
   ]
  },
  {
   "cell_type": "code",
   "execution_count": 106,
   "id": "08ab2e4e",
   "metadata": {},
   "outputs": [],
   "source": [
    "l1.append([3,4,5])"
   ]
  },
  {
   "cell_type": "code",
   "execution_count": 108,
   "id": "5025f697",
   "metadata": {},
   "outputs": [],
   "source": [
    "l2=l1"
   ]
  },
  {
   "cell_type": "code",
   "execution_count": 111,
   "id": "6fa14d1b",
   "metadata": {},
   "outputs": [
    {
     "data": {
      "text/plain": [
       "[1, 4, 6, 7, 22, 0, 333, [3, 4, 5], 1, 4, 6, 7, 22, 0, 333, [3, 4, 5]]"
      ]
     },
     "execution_count": 111,
     "metadata": {},
     "output_type": "execute_result"
    }
   ],
   "source": [
    "l1+l2"
   ]
  },
  {
   "cell_type": "code",
   "execution_count": 116,
   "id": "a6b4ef96",
   "metadata": {},
   "outputs": [
    {
     "data": {
      "text/plain": [
       "[2, 3, 3, 4]"
      ]
     },
     "execution_count": 116,
     "metadata": {},
     "output_type": "execute_result"
    }
   ],
   "source": [
    "[2,3]+[3,4]"
   ]
  },
  {
   "cell_type": "code",
   "execution_count": 140,
   "id": "ec8a03dc",
   "metadata": {},
   "outputs": [
    {
     "name": "stdout",
     "output_type": "stream",
     "text": [
      "[2, 1, 3, 4, 5, 6]\n",
      "[2, 1, 3, 4, 5, 6]\n",
      "[2, 1, 3, 4, 5, 6, 4, 5, 6]\n"
     ]
    }
   ],
   "source": [
    "l1=[2,1,3]\n",
    "l2=[4,5,6]\n",
    "l3=l1+l2\n",
    "print(l3)\n",
    "l1=l1+l2\n",
    "print(l1)\n",
    "l1.extend([4,5,6])\n",
    "print(l1)"
   ]
  },
  {
   "cell_type": "code",
   "execution_count": 126,
   "id": "735bbad9",
   "metadata": {},
   "outputs": [],
   "source": [
    "l1.append(l2) #mutates"
   ]
  },
  {
   "cell_type": "code",
   "execution_count": 127,
   "id": "fc17f14f",
   "metadata": {},
   "outputs": [
    {
     "data": {
      "text/plain": [
       "[2, 1, 3, 4, 5, 6, 4, 5, 6, [4, 5, 6]]"
      ]
     },
     "execution_count": 127,
     "metadata": {},
     "output_type": "execute_result"
    }
   ],
   "source": [
    "l1"
   ]
  },
  {
   "cell_type": "code",
   "execution_count": 141,
   "id": "dfa645b7",
   "metadata": {},
   "outputs": [],
   "source": [
    "l1.extend(l2)"
   ]
  },
  {
   "cell_type": "code",
   "execution_count": 129,
   "id": "3e99ca5e",
   "metadata": {},
   "outputs": [
    {
     "data": {
      "text/plain": [
       "[2, 1, 3, 4, 5, 6, 4, 5, 6, [4, 5, 6], 4, 5, 6]"
      ]
     },
     "execution_count": 129,
     "metadata": {},
     "output_type": "execute_result"
    }
   ],
   "source": [
    "l1"
   ]
  },
  {
   "cell_type": "code",
   "execution_count": 142,
   "id": "b0b4bcf9",
   "metadata": {},
   "outputs": [
    {
     "data": {
      "text/plain": [
       "[2, 1, 3, 4, 5, 6, 4, 5, 6, 4, 5, 6, 4, 5, 6]"
      ]
     },
     "execution_count": 142,
     "metadata": {},
     "output_type": "execute_result"
    }
   ],
   "source": [
    "l1+l2"
   ]
  },
  {
   "cell_type": "code",
   "execution_count": 143,
   "id": "d79ce3df",
   "metadata": {},
   "outputs": [
    {
     "name": "stdout",
     "output_type": "stream",
     "text": [
      "[2, 1, 3, 4, 5, 6, 4, 5, 6, 4, 5, 6]\n",
      "6\n",
      "[2, 1, 3, 4, 5, 6, 4, 5, 6, 4, 5]\n",
      "[2, 1, 3, 4, 6, 4, 5, 6, 4, 5]\n",
      "[2, 1, 3, 6, 4, 5, 6, 4, 5]\n"
     ]
    }
   ],
   "source": [
    "print(l1)\n",
    "print(l1.pop())\n",
    "print(l1)\n",
    "l1.remove(5)\n",
    "print(l1)\n",
    "del(l1[3])\n",
    "print(l1)"
   ]
  },
  {
   "cell_type": "code",
   "execution_count": 148,
   "id": "66f0a424",
   "metadata": {},
   "outputs": [
    {
     "name": "stdout",
     "output_type": "stream",
     "text": [
      "hello world this is s1\n",
      "['h', 'e', 'l', 'l', 'o', ' ', 'w', 'o', 'r', 'l', 'd', ' ', 't', 'h', 'i', 's', ' ', 'i', 's', ' ', 's', '1']\n",
      "hello world this is s1\n",
      "['hello world ', ' is s1']\n"
     ]
    }
   ],
   "source": [
    "# Convert lists to strings and back\n",
    "s1=\"hello world this is s1\"\n",
    "print(s1)\n",
    "print(list(s1)) # to list\n",
    "print(\"\".join(list(s1))) # to string\n",
    "print(s1.split(\"this\"))"
   ]
  },
  {
   "cell_type": "code",
   "execution_count": 152,
   "id": "700b95bb",
   "metadata": {},
   "outputs": [
    {
     "data": {
      "text/plain": [
       "[2, 1, 3, 6, 4, 5, 6, 4, 5]"
      ]
     },
     "execution_count": 152,
     "metadata": {},
     "output_type": "execute_result"
    }
   ],
   "source": [
    "l1"
   ]
  },
  {
   "cell_type": "code",
   "execution_count": 153,
   "id": "f590d150",
   "metadata": {},
   "outputs": [
    {
     "data": {
      "text/plain": [
       "[1, 2, 3, 4, 4, 5, 5, 6, 6]"
      ]
     },
     "execution_count": 153,
     "metadata": {},
     "output_type": "execute_result"
    }
   ],
   "source": [
    "sorted(l1) # doesn't mutate"
   ]
  },
  {
   "cell_type": "code",
   "execution_count": 155,
   "id": "6042f1da",
   "metadata": {},
   "outputs": [
    {
     "name": "stdout",
     "output_type": "stream",
     "text": [
      "[1, 2, 3, 4, 4, 5, 5, 6, 6]\n"
     ]
    }
   ],
   "source": [
    "l1.sort() # mutates\n",
    "print(l1)"
   ]
  },
  {
   "cell_type": "code",
   "execution_count": 1,
   "id": "a3a69706",
   "metadata": {},
   "outputs": [
    {
     "name": "stdout",
     "output_type": "stream",
     "text": [
      "[1, 2, 3]\n",
      "[1, 2, 3]\n"
     ]
    }
   ],
   "source": [
    "cool=[1,2,3]\n",
    "warm=[1,2,3]\n",
    "print(cool)\n",
    "print(warm)"
   ]
  },
  {
   "cell_type": "code",
   "execution_count": 2,
   "id": "d08fc8dc",
   "metadata": {},
   "outputs": [
    {
     "name": "stdout",
     "output_type": "stream",
     "text": [
      "['orange', 'red', 'yellow']\n",
      "None\n",
      "['red', 'yellow', 'orange']\n",
      "['orange', 'red', 'yellow']\n"
     ]
    }
   ],
   "source": [
    "warm=[\"red\",\"yellow\",\"orange\"]\n",
    "sortedwarm=warm.sort() # mutates\n",
    "print(warm)\n",
    "print(sortedwarm)\n",
    "\n",
    "warm=[\"red\",\"yellow\",\"orange\"]\n",
    "sortedwarm=sorted(warm) # does not mutate\n",
    "print(warm)\n",
    "print(sortedwarm)\n"
   ]
  },
  {
   "cell_type": "code",
   "execution_count": 10,
   "id": "aeaa7553",
   "metadata": {},
   "outputs": [],
   "source": [
    "def applyToEach(L,func):\n",
    "    for i in range(len(L)):\n",
    "        L[i]=func(L[i])\n",
    "    return L"
   ]
  },
  {
   "cell_type": "code",
   "execution_count": 20,
   "id": "28a44778",
   "metadata": {},
   "outputs": [
    {
     "name": "stdout",
     "output_type": "stream",
     "text": [
      "[1, -2, 3]\n",
      "[1, 2, 3]\n"
     ]
    }
   ],
   "source": [
    "L=[1,-2,3.4]\n",
    "print(applyToEach(L,int))\n",
    "print(applyToEach(L,abs))"
   ]
  },
  {
   "cell_type": "code",
   "execution_count": 24,
   "id": "27cedace",
   "metadata": {},
   "outputs": [
    {
     "name": "stdout",
     "output_type": "stream",
     "text": [
      "4.4\n",
      "-4\n"
     ]
    }
   ],
   "source": [
    "def applyFuncs(L,x):\n",
    "    for func in L:\n",
    "        print(func(x))\n",
    "applyFuncs([abs,int],-4.4)"
   ]
  },
  {
   "cell_type": "code",
   "execution_count": 18,
   "id": "11685922",
   "metadata": {},
   "outputs": [
    {
     "name": "stdout",
     "output_type": "stream",
     "text": [
      "[1, 1, 4]\n",
      "[1, 1, 4]\n"
     ]
    }
   ],
   "source": [
    "L=[-1,1,-4]\n",
    "L2=[]\n",
    "for elem in L:\n",
    "    L2.append(abs(elem))\n",
    "print(L2)\n",
    "print(list(map(abs,[-1,1,-4])))"
   ]
  },
  {
   "cell_type": "markdown",
   "id": "e9d0ef8b",
   "metadata": {},
   "source": [
    "Dictionaries"
   ]
  },
  {
   "cell_type": "code",
   "execution_count": 6,
   "id": "be17b0b7",
   "metadata": {},
   "outputs": [
    {
     "name": "stdout",
     "output_type": "stream",
     "text": [
      "math\n",
      "('math', 'A')\n"
     ]
    }
   ],
   "source": [
    "# messy way\n",
    "name_list=['ash','john','brian']\n",
    "grades_list=['A',\"B\",\"C\"]\n",
    "course_list=[\"math\",\"chem\",\"phys\"]\n",
    "\n",
    "def get_grade(student):\n",
    "    i=name_list.index(student)\n",
    "    grade=grades_list[i]\n",
    "    course=course_list[i]\n",
    "    return(course,grade)\n",
    "print(get_grade(\"ash\")[0])\n",
    "print(get_grade(\"ash\"))"
   ]
  },
  {
   "cell_type": "code",
   "execution_count": 39,
   "id": "ec216e8d",
   "metadata": {},
   "outputs": [
    {
     "name": "stdout",
     "output_type": "stream",
     "text": [
      "A\n",
      "{'ash': 'A', 'John': 'B', 'Brian': 'C'}\n",
      "A-\n"
     ]
    }
   ],
   "source": [
    "# key and value\n",
    "my_dict={} # empty dict\n",
    "grades_dict={\"ash\":\"A\",\"John\":\"B\",\"Brian\":\"C\"}\n",
    "print(grades_dict[\"ash\"])\n",
    "print(grades_dict)\n",
    "grades_dict[\"Ashish\"]=\"A-\"\n",
    "print(grades_dict[\"Ashish\"])\n"
   ]
  },
  {
   "cell_type": "code",
   "execution_count": 36,
   "id": "ca30b0d4",
   "metadata": {},
   "outputs": [
    {
     "name": "stdout",
     "output_type": "stream",
     "text": [
      "False\n",
      "True\n"
     ]
    }
   ],
   "source": [
    "# test if key is in the dictionary\n",
    "print(\"fan\" in grades_dict)\n",
    "print(\"ash\" in grades_dict)"
   ]
  },
  {
   "cell_type": "code",
   "execution_count": 40,
   "id": "7295c243",
   "metadata": {},
   "outputs": [],
   "source": [
    "del grades_dict[\"Ashish\"]"
   ]
  },
  {
   "cell_type": "code",
   "execution_count": 41,
   "id": "a158b3e0",
   "metadata": {},
   "outputs": [
    {
     "name": "stdout",
     "output_type": "stream",
     "text": [
      "{'ash': 'A', 'John': 'B', 'Brian': 'C'}\n"
     ]
    }
   ],
   "source": [
    "print(grades_dict)"
   ]
  },
  {
   "cell_type": "code",
   "execution_count": 44,
   "id": "02662e34",
   "metadata": {},
   "outputs": [
    {
     "data": {
      "text/plain": [
       "dict_keys(['ash', 'John', 'Brian'])"
      ]
     },
     "execution_count": 44,
     "metadata": {},
     "output_type": "execute_result"
    }
   ],
   "source": [
    "grades_dict.keys()"
   ]
  },
  {
   "cell_type": "code",
   "execution_count": 46,
   "id": "0e161bd8",
   "metadata": {},
   "outputs": [
    {
     "data": {
      "text/plain": [
       "['A', 'B', 'C']"
      ]
     },
     "execution_count": 46,
     "metadata": {},
     "output_type": "execute_result"
    }
   ],
   "source": [
    "list(grades_dict.values())"
   ]
  },
  {
   "cell_type": "code",
   "execution_count": 48,
   "id": "40bfa9b4",
   "metadata": {},
   "outputs": [
    {
     "name": "stdout",
     "output_type": "stream",
     "text": [
      "ash\n",
      "John\n",
      "Brian\n"
     ]
    }
   ],
   "source": [
    "for dict_keys in grades_dict.keys():\n",
    "    print(dict_keys)"
   ]
  },
  {
   "cell_type": "code",
   "execution_count": 60,
   "id": "072d3797",
   "metadata": {},
   "outputs": [],
   "source": [
    "# can have functions as dictionary values\n",
    "grades_dict[\"myfunction\"]=get_grade"
   ]
  },
  {
   "cell_type": "code",
   "execution_count": 61,
   "id": "3ed6b795",
   "metadata": {},
   "outputs": [
    {
     "data": {
      "text/plain": [
       "('math', 'A')"
      ]
     },
     "execution_count": 61,
     "metadata": {},
     "output_type": "execute_result"
    }
   ],
   "source": [
    "grades_dict[\"myfunction\"](\"ash\")"
   ]
  },
  {
   "cell_type": "code",
   "execution_count": 62,
   "id": "9eee24cb",
   "metadata": {},
   "outputs": [],
   "source": [
    "grades_dict[23]=\"my test\""
   ]
  },
  {
   "cell_type": "code",
   "execution_count": 64,
   "id": "ef3e1239",
   "metadata": {},
   "outputs": [
    {
     "data": {
      "text/plain": [
       "{'ash': 'A',\n",
       " 'John': 'B',\n",
       " 'Brian': 'C',\n",
       " 'myfunction': <function __main__.get_grade(student)>,\n",
       " 23: 'my test'}"
      ]
     },
     "execution_count": 64,
     "metadata": {},
     "output_type": "execute_result"
    }
   ],
   "source": [
    "grades_dict"
   ]
  },
  {
   "cell_type": "code",
   "execution_count": 66,
   "id": "ab9d9f28",
   "metadata": {},
   "outputs": [
    {
     "name": "stdout",
     "output_type": "stream",
     "text": [
      "{4: {1: 0}, (1, 3): 'dfd', 'hi': [3, 4, 'df']}\n"
     ]
    }
   ],
   "source": [
    "d={4:{1:0},(1,3):\"dfd\",\"hi\":[3,4,\"df\"]}\n",
    "print(d)"
   ]
  },
  {
   "cell_type": "code",
   "execution_count": 2,
   "id": "35f9d8d2",
   "metadata": {},
   "outputs": [
    {
     "data": {
      "text/plain": [
       "'d'"
      ]
     },
     "execution_count": 2,
     "metadata": {},
     "output_type": "execute_result"
    }
   ],
   "source": [
    "# dictionaries with functions\n",
    "def lyrics_to_frequences(lyrics):\n",
    "    myDict={}\n",
    "    for word in lyrics:\n",
    "        if word in myDict:\n",
    "            myDict[word] += 1\n",
    "        else:\n",
    "            myDict[word]=1\n",
    "    return myDict\n",
    "\n",
    "lyric_freq=lyrics_to_frequences(['hi','this','hi','bye','bye','hi','this','good'])\n",
    "\n",
    "\n",
    "animals = { 'a': ['aardvark'], 'b': ['baboon'], 'c': ['coati']}\n",
    "\n",
    "animals['d'] = ['donkey']\n",
    "animals['d'].append('dog')\n",
    "animals['d'].append('dingo')\n",
    "\n",
    "def biggest(aDict):\n",
    "    '''\n",
    "    aDict: A dictionary, where all the values are lists.\n",
    "\n",
    "    returns: The key with the largest number of values associated with it\n",
    "    '''\n",
    "    # Your Code Here\n",
    "    max_count=0\n",
    "    for key in aDict.keys():\n",
    "        count=len(aDict[key])\n",
    "        if count > max_count:\n",
    "            max_count=count\n",
    "            max_key=key\n",
    "    return(max_key)\n",
    "\n",
    "\n",
    "biggest(animals)"
   ]
  },
  {
   "cell_type": "code",
   "execution_count": null,
   "id": "a1ee5fc7",
   "metadata": {},
   "outputs": [],
   "source": []
  }
 ],
 "metadata": {
  "kernelspec": {
   "display_name": "Python 3 (ipykernel)",
   "language": "python",
   "name": "python3"
  },
  "language_info": {
   "codemirror_mode": {
    "name": "ipython",
    "version": 3
   },
   "file_extension": ".py",
   "mimetype": "text/x-python",
   "name": "python",
   "nbconvert_exporter": "python",
   "pygments_lexer": "ipython3",
   "version": "3.9.12"
  }
 },
 "nbformat": 4,
 "nbformat_minor": 5
}
